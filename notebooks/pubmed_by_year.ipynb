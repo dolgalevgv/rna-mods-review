{
 "cells": [
  {
   "cell_type": "code",
   "execution_count": 1,
   "id": "9955e6d7-b013-496a-bb28-d3d272aec1d9",
   "metadata": {},
   "outputs": [],
   "source": [
    "from Bio import Entrez\n",
    "import numpy as np\n",
    "import pandas as pd\n",
    "import time"
   ]
  },
  {
   "cell_type": "code",
   "execution_count": 2,
   "id": "1520154f-6dd5-486d-8afe-b89a41eeb4c4",
   "metadata": {},
   "outputs": [],
   "source": [
    "Entrez.email = 'geodynev@gmail.com'"
   ]
  },
  {
   "cell_type": "code",
   "execution_count": 3,
   "id": "c63fbe6c-8248-4aea-85e8-b8fa2bb23153",
   "metadata": {},
   "outputs": [],
   "source": [
    "def get_pubmed_counts_by_year(query):\n",
    "    articles = []\n",
    "    \n",
    "    for i in range(2021, 1999, -1):\n",
    "        handle = Entrez.esearch(db='pubmed',\n",
    "                                sort='relevance',\n",
    "                                retmode='xml',\n",
    "                                retmax=100_000,\n",
    "                                mindate=i,\n",
    "                                maxdate=i,\n",
    "                                term=f'\"{query}\" AND \"RNA\"')\n",
    "        \n",
    "        result = int(Entrez.read(handle)['Count'])\n",
    "        \n",
    "        articles.append(result)\n",
    "        \n",
    "    articles = np.array(articles, dtype=int)\n",
    "    \n",
    "    return articles"
   ]
  },
  {
   "cell_type": "code",
   "execution_count": 4,
   "id": "c0da648c-5453-4da4-8e7a-6a95d6f461c6",
   "metadata": {},
   "outputs": [
    {
     "name": "stdout",
     "output_type": "stream",
     "text": [
      "CPU times: total: 672 ms\n",
      "Wall time: 28.6 s\n"
     ]
    },
    {
     "data": {
      "text/plain": [
       "array([80, 67, 43, 36, 40, 46, 37, 26, 18, 24, 30, 27, 25, 32, 28, 33, 28,\n",
       "       30, 19, 25, 16, 16])"
      ]
     },
     "execution_count": 4,
     "metadata": {},
     "output_type": "execute_result"
    }
   ],
   "source": [
    "%%time\n",
    "get_pubmed_counts_by_year('pseudouridine')"
   ]
  },
  {
   "cell_type": "code",
   "execution_count": null,
   "id": "ad4b7648-a37d-4f92-a268-41ad9189a16b",
   "metadata": {},
   "outputs": [],
   "source": [
    "mp = pd.read_excel('../data/mods_pubmed_v2.xlsx')"
   ]
  },
  {
   "cell_type": "code",
   "execution_count": null,
   "id": "1a30f89d-174a-4aba-80f1-5685a4dabdc9",
   "metadata": {},
   "outputs": [],
   "source": [
    "mp.head()"
   ]
  },
  {
   "cell_type": "code",
   "execution_count": null,
   "id": "329cd466-8b6b-49e8-810d-5133b93bb1c2",
   "metadata": {},
   "outputs": [],
   "source": [
    "for i, j in enumerate(mp['modification'].to_list()[len(file):]):\n",
    "    x = search_by_year(j)\n",
    "    file.loc[i+len(file)] = [j, x]\n",
    "    file.to_excel('../data/res3.xlsx', index=False)\n",
    "    print(f'{i+1}   ', end='\\r')\n",
    "    time.sleep(3)"
   ]
  },
  {
   "cell_type": "code",
   "execution_count": null,
   "id": "d28c565e-8712-4cb3-a912-b39be7690b9a",
   "metadata": {},
   "outputs": [],
   "source": []
  }
 ],
 "metadata": {
  "kernelspec": {
   "display_name": "Python 3 (ipykernel)",
   "language": "python",
   "name": "python3"
  },
  "language_info": {
   "codemirror_mode": {
    "name": "ipython",
    "version": 3
   },
   "file_extension": ".py",
   "mimetype": "text/x-python",
   "name": "python",
   "nbconvert_exporter": "python",
   "pygments_lexer": "ipython3",
   "version": "3.10.4"
  }
 },
 "nbformat": 4,
 "nbformat_minor": 5
}
